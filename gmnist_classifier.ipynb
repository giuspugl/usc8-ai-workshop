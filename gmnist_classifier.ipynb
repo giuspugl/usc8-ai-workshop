{
 "cells": [
  {
   "cell_type": "markdown",
   "id": "9bda7e73",
   "metadata": {},
   "source": [
    "## Module install\n",
    "Let's first install required python modules."
   ]
  },
  {
   "cell_type": "code",
   "execution_count": 7,
   "id": "8f608540",
   "metadata": {},
   "outputs": [
    {
     "name": "stdout",
     "output_type": "stream",
     "text": [
      "Requirement already satisfied: pillow in /home/riggi/Software/venvs/usc8-ai-workshop/lib/python3.10/site-packages (11.1.0)\n",
      "Note: you may need to restart the kernel to use updated packages.\n",
      "Requirement already satisfied: torch in /home/riggi/Software/venvs/usc8-ai-workshop/lib/python3.10/site-packages (2.6.0)\n",
      "Requirement already satisfied: torchvision in /home/riggi/Software/venvs/usc8-ai-workshop/lib/python3.10/site-packages (0.21.0)\n",
      "Requirement already satisfied: scikit-learn in /home/riggi/Software/venvs/usc8-ai-workshop/lib/python3.10/site-packages (1.6.1)\n",
      "Requirement already satisfied: filelock in /home/riggi/Software/venvs/usc8-ai-workshop/lib/python3.10/site-packages (from torch) (3.17.0)\n",
      "Requirement already satisfied: typing-extensions>=4.10.0 in /home/riggi/Software/venvs/usc8-ai-workshop/lib/python3.10/site-packages (from torch) (4.12.2)\n",
      "Requirement already satisfied: networkx in /home/riggi/Software/venvs/usc8-ai-workshop/lib/python3.10/site-packages (from torch) (3.4.2)\n",
      "Requirement already satisfied: jinja2 in /home/riggi/Software/venvs/usc8-ai-workshop/lib/python3.10/site-packages (from torch) (3.1.6)\n",
      "Requirement already satisfied: fsspec in /home/riggi/Software/venvs/usc8-ai-workshop/lib/python3.10/site-packages (from torch) (2025.2.0)\n",
      "Requirement already satisfied: nvidia-cuda-nvrtc-cu12==12.4.127 in /home/riggi/Software/venvs/usc8-ai-workshop/lib/python3.10/site-packages (from torch) (12.4.127)\n",
      "Requirement already satisfied: nvidia-cuda-runtime-cu12==12.4.127 in /home/riggi/Software/venvs/usc8-ai-workshop/lib/python3.10/site-packages (from torch) (12.4.127)\n",
      "Requirement already satisfied: nvidia-cuda-cupti-cu12==12.4.127 in /home/riggi/Software/venvs/usc8-ai-workshop/lib/python3.10/site-packages (from torch) (12.4.127)\n",
      "Requirement already satisfied: nvidia-cudnn-cu12==9.1.0.70 in /home/riggi/Software/venvs/usc8-ai-workshop/lib/python3.10/site-packages (from torch) (9.1.0.70)\n",
      "Requirement already satisfied: nvidia-cublas-cu12==12.4.5.8 in /home/riggi/Software/venvs/usc8-ai-workshop/lib/python3.10/site-packages (from torch) (12.4.5.8)\n",
      "Requirement already satisfied: nvidia-cufft-cu12==11.2.1.3 in /home/riggi/Software/venvs/usc8-ai-workshop/lib/python3.10/site-packages (from torch) (11.2.1.3)\n",
      "Requirement already satisfied: nvidia-curand-cu12==10.3.5.147 in /home/riggi/Software/venvs/usc8-ai-workshop/lib/python3.10/site-packages (from torch) (10.3.5.147)\n",
      "Requirement already satisfied: nvidia-cusolver-cu12==11.6.1.9 in /home/riggi/Software/venvs/usc8-ai-workshop/lib/python3.10/site-packages (from torch) (11.6.1.9)\n",
      "Requirement already satisfied: nvidia-cusparse-cu12==12.3.1.170 in /home/riggi/Software/venvs/usc8-ai-workshop/lib/python3.10/site-packages (from torch) (12.3.1.170)\n",
      "Requirement already satisfied: nvidia-cusparselt-cu12==0.6.2 in /home/riggi/Software/venvs/usc8-ai-workshop/lib/python3.10/site-packages (from torch) (0.6.2)\n",
      "Requirement already satisfied: nvidia-nccl-cu12==2.21.5 in /home/riggi/Software/venvs/usc8-ai-workshop/lib/python3.10/site-packages (from torch) (2.21.5)\n",
      "Requirement already satisfied: nvidia-nvtx-cu12==12.4.127 in /home/riggi/Software/venvs/usc8-ai-workshop/lib/python3.10/site-packages (from torch) (12.4.127)\n",
      "Requirement already satisfied: nvidia-nvjitlink-cu12==12.4.127 in /home/riggi/Software/venvs/usc8-ai-workshop/lib/python3.10/site-packages (from torch) (12.4.127)\n",
      "Requirement already satisfied: triton==3.2.0 in /home/riggi/Software/venvs/usc8-ai-workshop/lib/python3.10/site-packages (from torch) (3.2.0)\n",
      "Requirement already satisfied: sympy==1.13.1 in /home/riggi/Software/venvs/usc8-ai-workshop/lib/python3.10/site-packages (from torch) (1.13.1)\n",
      "Requirement already satisfied: mpmath<1.4,>=1.1.0 in /home/riggi/Software/venvs/usc8-ai-workshop/lib/python3.10/site-packages (from sympy==1.13.1->torch) (1.3.0)\n",
      "Requirement already satisfied: numpy in /home/riggi/Software/venvs/usc8-ai-workshop/lib/python3.10/site-packages (from torchvision) (2.2.3)\n",
      "Requirement already satisfied: pillow!=8.3.*,>=5.3.0 in /home/riggi/Software/venvs/usc8-ai-workshop/lib/python3.10/site-packages (from torchvision) (11.1.0)\n",
      "Requirement already satisfied: scipy>=1.6.0 in /home/riggi/Software/venvs/usc8-ai-workshop/lib/python3.10/site-packages (from scikit-learn) (1.15.2)\n",
      "Requirement already satisfied: joblib>=1.2.0 in /home/riggi/Software/venvs/usc8-ai-workshop/lib/python3.10/site-packages (from scikit-learn) (1.4.2)\n",
      "Requirement already satisfied: threadpoolctl>=3.1.0 in /home/riggi/Software/venvs/usc8-ai-workshop/lib/python3.10/site-packages (from scikit-learn) (3.5.0)\n",
      "Requirement already satisfied: MarkupSafe>=2.0 in /home/riggi/Software/venvs/usc8-ai-workshop/lib/python3.10/site-packages (from jinja2->torch) (3.0.2)\n",
      "Note: you may need to restart the kernel to use updated packages.\n",
      "Requirement already satisfied: gdown in /home/riggi/Software/venvs/usc8-ai-workshop/lib/python3.10/site-packages (5.2.0)\n",
      "Requirement already satisfied: beautifulsoup4 in /home/riggi/Software/venvs/usc8-ai-workshop/lib/python3.10/site-packages (from gdown) (4.13.3)\n",
      "Requirement already satisfied: filelock in /home/riggi/Software/venvs/usc8-ai-workshop/lib/python3.10/site-packages (from gdown) (3.17.0)\n",
      "Requirement already satisfied: requests[socks] in /home/riggi/Software/venvs/usc8-ai-workshop/lib/python3.10/site-packages (from gdown) (2.32.3)\n",
      "Requirement already satisfied: tqdm in /home/riggi/Software/venvs/usc8-ai-workshop/lib/python3.10/site-packages (from gdown) (4.67.1)\n",
      "Requirement already satisfied: soupsieve>1.2 in /home/riggi/Software/venvs/usc8-ai-workshop/lib/python3.10/site-packages (from beautifulsoup4->gdown) (2.6)\n",
      "Requirement already satisfied: typing-extensions>=4.0.0 in /home/riggi/Software/venvs/usc8-ai-workshop/lib/python3.10/site-packages (from beautifulsoup4->gdown) (4.12.2)\n",
      "Requirement already satisfied: charset-normalizer<4,>=2 in /home/riggi/Software/venvs/usc8-ai-workshop/lib/python3.10/site-packages (from requests[socks]->gdown) (3.4.1)\n",
      "Requirement already satisfied: idna<4,>=2.5 in /home/riggi/Software/venvs/usc8-ai-workshop/lib/python3.10/site-packages (from requests[socks]->gdown) (3.10)\n",
      "Requirement already satisfied: urllib3<3,>=1.21.1 in /home/riggi/Software/venvs/usc8-ai-workshop/lib/python3.10/site-packages (from requests[socks]->gdown) (2.3.0)\n",
      "Requirement already satisfied: certifi>=2017.4.17 in /home/riggi/Software/venvs/usc8-ai-workshop/lib/python3.10/site-packages (from requests[socks]->gdown) (2025.1.31)\n",
      "Requirement already satisfied: PySocks!=1.5.7,>=1.5.6 in /home/riggi/Software/venvs/usc8-ai-workshop/lib/python3.10/site-packages (from requests[socks]->gdown) (1.7.1)\n",
      "Note: you may need to restart the kernel to use updated packages.\n",
      "Requirement already satisfied: matplotlib in /home/riggi/Software/venvs/usc8-ai-workshop/lib/python3.10/site-packages (3.10.1)\n",
      "Requirement already satisfied: contourpy>=1.0.1 in /home/riggi/Software/venvs/usc8-ai-workshop/lib/python3.10/site-packages (from matplotlib) (1.3.1)\n",
      "Requirement already satisfied: cycler>=0.10 in /home/riggi/Software/venvs/usc8-ai-workshop/lib/python3.10/site-packages (from matplotlib) (0.12.1)\n",
      "Requirement already satisfied: fonttools>=4.22.0 in /home/riggi/Software/venvs/usc8-ai-workshop/lib/python3.10/site-packages (from matplotlib) (4.56.0)\n",
      "Requirement already satisfied: kiwisolver>=1.3.1 in /home/riggi/Software/venvs/usc8-ai-workshop/lib/python3.10/site-packages (from matplotlib) (1.4.8)\n",
      "Requirement already satisfied: numpy>=1.23 in /home/riggi/Software/venvs/usc8-ai-workshop/lib/python3.10/site-packages (from matplotlib) (2.2.3)\n",
      "Requirement already satisfied: packaging>=20.0 in /home/riggi/Software/venvs/usc8-ai-workshop/lib/python3.10/site-packages (from matplotlib) (24.2)\n",
      "Requirement already satisfied: pillow>=8 in /home/riggi/Software/venvs/usc8-ai-workshop/lib/python3.10/site-packages (from matplotlib) (11.1.0)\n",
      "Requirement already satisfied: pyparsing>=2.3.1 in /home/riggi/Software/venvs/usc8-ai-workshop/lib/python3.10/site-packages (from matplotlib) (3.2.1)\n",
      "Requirement already satisfied: python-dateutil>=2.7 in /home/riggi/Software/venvs/usc8-ai-workshop/lib/python3.10/site-packages (from matplotlib) (2.9.0.post0)\n",
      "Requirement already satisfied: six>=1.5 in /home/riggi/Software/venvs/usc8-ai-workshop/lib/python3.10/site-packages (from python-dateutil>=2.7->matplotlib) (1.17.0)\n"
     ]
    },
    {
     "name": "stdout",
     "output_type": "stream",
     "text": [
      "Note: you may need to restart the kernel to use updated packages.\n"
     ]
    }
   ],
   "source": [
    "###########################\n",
    "##   IMGPROC MODULES\n",
    "###########################\n",
    "%pip install pillow\n",
    "\n",
    "###########################\n",
    "##   ML MODULES\n",
    "###########################\n",
    "%pip install torch torchvision scikit-learn\n",
    "\n",
    "###########################\n",
    "##   OTHER MODULES\n",
    "###########################\n",
    "%pip install gdown # gDrive\n",
    "%pip install matplotlib\n",
    "\n",
    "###########################\n",
    "##   LOGGING\n",
    "###########################\n",
    "import logging\n",
    "import logging.config\n",
    "\n",
    "# Create the Logger\n",
    "logging.basicConfig(format=\"%(asctime)-15s %(levelname)s - %(message)s\",datefmt='%Y-%m-%d %H:%M:%S')\n",
    "logger= logging.getLogger(\"gmnist-classifier\")\n",
    "logger.setLevel(logging.INFO)"
   ]
  },
  {
   "cell_type": "markdown",
   "id": "17c93a79",
   "metadata": {},
   "source": [
    "### Project folders"
   ]
  },
  {
   "cell_type": "code",
   "execution_count": 9,
   "id": "9cc4cf42",
   "metadata": {},
   "outputs": [
    {
     "name": "stderr",
     "output_type": "stream",
     "text": [
      "2025-03-06 12:23:37 INFO - topdir=/home/riggi/Analysis/MLProjects/usc8-ai-workshop\n"
     ]
    }
   ],
   "source": [
    "import os\n",
    "from pathlib import Path\n",
    "\n",
    "def create_dir(dirname):\n",
    "    logger.info(\"Creating directory %s ...\" % (dirname))\n",
    "    path = Path(dirname)\n",
    "    path.mkdir(parents=True, exist_ok=True)\n",
    "    logger.info(\"Run directory %s created successfully ...\" % (dirname))\n",
    "\n",
    "# - Set project directory\n",
    "topdir= os.getcwd()\n",
    "logger.info(\"topdir=%s\" % (topdir))\n",
    "\n",
    "############################\n",
    "##   DATASET URL\n",
    "############################\n",
    "dataset_name= \"galaxy_mnist-dataset\"\n",
    "dataset_dir= os.path.join(topdir, dataset_name)\n",
    "dataset_filename= 'galaxy_mnist-dataset.tar.gz'\n",
    "dataset_url= 'https://drive.google.com/uc?export=download&id=1OprJ_NQIFyQSRWqjGLFQsAMumHvJ-tMB'\n",
    "filename_train= os.path.join(dataset_dir, \"train/1chan/datalist_train.json\")\n",
    "filename_test= os.path.join(dataset_dir, \"test/1chan/datalist_test.json\")\n",
    "filename_train_3chan= os.path.join(dataset_dir, \"train/3chan/datalist_train.json\")\n",
    "filename_test_3chan= os.path.join(dataset_dir, \"test/3chan/datalist_test.json\")"
   ]
  },
  {
   "cell_type": "markdown",
   "id": "6962f11a",
   "metadata": {},
   "source": [
    "## Dataset\n",
    "The dataset for this tutorial contains ... ... [ADD DATASET DESCRIPTION]"
   ]
  },
  {
   "cell_type": "markdown",
   "id": "59951cae",
   "metadata": {},
   "source": [
    "### Dataset Download\n",
    "We download the dataset from GoogleDrive and unzip it in the main folder."
   ]
  },
  {
   "cell_type": "code",
   "execution_count": 12,
   "id": "a3083681",
   "metadata": {},
   "outputs": [
    {
     "name": "stderr",
     "output_type": "stream",
     "text": [
      "2025-03-06 13:01:56 INFO - Downloading file from url https://drive.google.com/uc?export=download&id=1OprJ_NQIFyQSRWqjGLFQsAMumHvJ-tMB ...\n",
      "Downloading...\n",
      "From (original): https://drive.google.com/uc?export=download&id=1OprJ_NQIFyQSRWqjGLFQsAMumHvJ-tMB\n",
      "From (redirected): https://drive.google.com/uc?export=download&id=1OprJ_NQIFyQSRWqjGLFQsAMumHvJ-tMB&confirm=t&uuid=7d64857c-68d1-4d75-b07e-7773dd0b0259\n",
      "To: /home/riggi/Analysis/MLProjects/usc8-ai-workshop/galaxy_mnist-dataset.tar.gz\n",
      "100%|█████████████████████████████████████████████████████████████████████████████████████████████████████████████████████████████████████████████████████████████████████████| 1.33G/1.33G [01:40<00:00, 13.2MB/s]\n",
      "2025-03-06 13:03:41 INFO - DONE!\n",
      "2025-03-06 13:03:41 INFO - Unzipping dataset file galaxy_mnist-dataset.tar.gz ...\n",
      "2025-03-06 13:03:46 INFO - DONE\n"
     ]
    }
   ],
   "source": [
    "import os\n",
    "import gdown\n",
    "import tarfile\n",
    "\n",
    "#################################\n",
    "##      DOWNLOAD FILES\n",
    "#################################\n",
    "def download_files_from_gdrive(url, outfile, force=False):\n",
    "  \"\"\" Download model file from gDrive \"\"\"\n",
    "\n",
    "  if force or not os.path.isfile(outfile):\n",
    "    gdown.download(url, outfile, quiet=False)\n",
    "   \n",
    "def untar_file(filename):\n",
    "  \"\"\" Unzip file \"\"\"\n",
    "  \n",
    "  fp= tarfile.open(filename)\n",
    "  fp.extractall('.')\n",
    "  fp.close()  \n",
    "\n",
    "# - Enter top directory\n",
    "os.chdir(topdir)\n",
    "\n",
    "# - Download dataset\n",
    "logger.info(\"Downloading file from url %s ...\" % (dataset_url))\n",
    "download_files_from_gdrive(dataset_url, dataset_filename, force=True)\n",
    "logger.info(\"DONE!\")\n",
    "\n",
    "# - Untar dataset\n",
    "logger.info(\"Unzipping dataset file %s ...\" % (dataset_filename))\n",
    "untar_file(dataset_filename)\n",
    "logger.info(\"DONE\")"
   ]
  },
  {
   "cell_type": "markdown",
   "id": "ec34fcbf",
   "metadata": {},
   "source": [
    "### Create PyTorch Dataset\n",
    "Let's create a custom pytorch dataset using base VisionDataset. "
   ]
  },
  {
   "cell_type": "code",
   "execution_count": 22,
   "id": "ba869c3c",
   "metadata": {},
   "outputs": [
    {
     "name": "stderr",
     "output_type": "stream",
     "text": [
      "2025-03-06 13:28:15 INFO - Read train-cv dataset from file /home/riggi/Analysis/MLProjects/usc8-ai-workshop/galaxy_mnist-dataset/train/3chan/datalist_train.json ...\n",
      "2025-03-06 13:28:15 INFO - Reading dataset metadata from file /home/riggi/Analysis/MLProjects/usc8-ai-workshop/galaxy_mnist-dataset/train/3chan/datalist_train.json ...\n",
      "2025-03-06 13:28:15 INFO - DONE!\n",
      "2025-03-06 13:28:15 INFO - Read test dataset from file /home/riggi/Analysis/MLProjects/usc8-ai-workshop/galaxy_mnist-dataset/test/3chan/datalist_test.json ...\n",
      "2025-03-06 13:28:15 INFO - Reading dataset metadata from file /home/riggi/Analysis/MLProjects/usc8-ai-workshop/galaxy_mnist-dataset/test/3chan/datalist_test.json ...\n",
      "2025-03-06 13:28:15 INFO - DONE!\n"
     ]
    }
   ],
   "source": [
    "from torch.utils.data import Dataset\n",
    "from torchvision.datasets.vision import VisionDataset\n",
    "import json\n",
    "from pathlib import Path\n",
    "from typing import Any, Callable, Dict, List, Optional, Tuple, Union\n",
    "\n",
    "\n",
    "class GMNISTDataset(Dataset):\n",
    "  \"\"\" Galaxy MNIST dataset \"\"\"\n",
    "\n",
    "  def __init__(\n",
    "      self, \n",
    "      metadata_file: Union[str, Path], \n",
    "      transform: Optional[Callable] = None,\n",
    "      target_transform: Optional[Callable] = None,\n",
    "  ):\n",
    "    \"\"\"\n",
    "      Arguments:\n",
    "        metadata_file (string): Path to the json file with annotations.\n",
    "        transform (callable, optional): Optional transform to be applied on a sample.\n",
    "    \"\"\"\n",
    "    \n",
    "    logger.info(\"Reading dataset metadata from file %s ...\" % (metadata_file))\n",
    "    self.__read_metadata(metadata_file)\n",
    "    self.transform = transform\n",
    "    self.target_transform = target_transform\n",
    "\n",
    "  def __read_metadata(self, filename):\n",
    "    \"\"\" Read json metadata \"\"\"\n",
    "    \n",
    "    f= open(filename, \"r\")\n",
    "    self.datalist= json.load(f)[\"data\"]\n",
    "  \n",
    "  def __len__(self):\n",
    "    \"\"\" Return size of dataset \"\"\"    \n",
    "    return len(self.datalist)\n",
    "\n",
    "  def __getitem__(self, idx):\n",
    "    \"\"\" Return dataset item \"\"\"\n",
    "    \n",
    "    # - Read image path & class id\n",
    "    img_path= self.datalist[idx]['filepaths'][0]\n",
    "    target= self.datalist[idx]['id'] # class id\n",
    "    \n",
    "    # Read PIL image as RGB\n",
    "    img = Image.open(img_path, mode='RGB')\n",
    "\n",
    "    # - Transform image?\n",
    "    if self.transform is not None:\n",
    "      img = self.transform(img)\n",
    "\n",
    "    # - Transform target?\n",
    "    if self.target_transform is not None:\n",
    "      target = self.target_transform(target)\n",
    "\n",
    "    return img, target\n",
    "\n",
    "\n",
    "###############################\n",
    "##     LOAD DATASETS\n",
    "###############################\n",
    "# - Read traincv dataset\n",
    "logger.info(\"Read train-cv dataset from file %s ...\" % (filename_train_3chan))\n",
    "dataset_traincv= GMNISTDataset(\n",
    "  metadata_file=filename_train_3chan\n",
    ")\n",
    "logger.info(\"DONE!\")\n",
    "\n",
    "# - Read test dataset\n",
    "logger.info(\"Read test dataset from file %s ...\" % (filename_test_3chan))\n",
    "dataset_test= GMNISTDataset(\n",
    "  metadata_file=filename_test_3chan\n",
    ")\n",
    "logger.info(\"DONE!\")\n"
   ]
  },
  {
   "cell_type": "code",
   "execution_count": null,
   "id": "8b381575",
   "metadata": {},
   "outputs": [],
   "source": []
  }
 ],
 "metadata": {
  "kernelspec": {
   "display_name": "usc8-ai-workshop",
   "language": "python",
   "name": "usc8-ai-workshop"
  },
  "language_info": {
   "codemirror_mode": {
    "name": "ipython",
    "version": 3
   },
   "file_extension": ".py",
   "mimetype": "text/x-python",
   "name": "python",
   "nbconvert_exporter": "python",
   "pygments_lexer": "ipython3",
   "version": "3.10.14"
  }
 },
 "nbformat": 4,
 "nbformat_minor": 5
}
